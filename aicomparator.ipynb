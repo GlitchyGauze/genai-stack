{
 "cells": [
  {
   "cell_type": "markdown",
   "metadata": {},
   "source": [
    "# Virtual Scribe AI Comparator\n",
    "\n",
    "The goal of this notebook is to compare the ability of various AI models to generate a Geriatrics Consultation Note"
   ]
  },
  {
   "cell_type": "code",
   "execution_count": 1,
   "metadata": {},
   "outputs": [],
   "source": [
    "# Load necessary components\n",
    "import os\n",
    "\n",
    "from langchain.llms import Ollama\n",
    "from langchain.chains import LLMChain\n",
    "from langchain.prompts import PromptTemplate\n"
   ]
  },
  {
   "cell_type": "code",
   "execution_count": null,
   "metadata": {},
   "outputs": [],
   "source": [
    "# Pick models to test\n",
    "models = [\"llama3.2\", \"llama3\", \"qwen2\"]\n",
    "\n",
    "# Get notes\n",
    "notes = [\n",
    "    \"\"\"Alice Wonderland 84 year old female\n",
    "    Has headache\n",
    "    history of diabetes, multiple falls\n",
    "    Recent fall 3 days ago prior to onset of headache\n",
    "    Has been getting worse\n",
    "    Recommend she go to the ED to rule out intracranial pathology\n",
    "    Her GDS is 15/15\n",
    "    He has no history of smoking or tobacco use\n",
    "    \"\"\",\n",
    "]"
   ]
  },
  {
   "cell_type": "code",
   "execution_count": 5,
   "metadata": {},
   "outputs": [],
   "source": [
    "# Create the prompt\n",
    "prompt = PromptTemplate(\n",
    "    input_variables=[\"notes\"],\n",
    "    template=\"\"\"You are a virtual medical scribe who needs to write a Geriatric consultation note. Use the following template as the output to fill the information provided. For any missing information, please write '***NEEDS TO BE COLLECTED***'\n",
    "\n",
    "    Patient Name:\n",
    "    Date of Birth:\n",
    "\n",
    "    Chief Complaint:\n",
    "\n",
    "    History of Presenting Illness:\n",
    "\n",
    "    Personal Medical History:\n",
    "    Surgical History:\n",
    "    Social History:\n",
    "    Family History:\n",
    "    \n",
    "    COMPREHENSIVE GERIATRIC ASSESSMENT:\n",
    "    Matters Most:\n",
    "        What matters most to patient?\n",
    "    Mobility:\n",
    "        History of Falls?\n",
    "    Medications:\n",
    "        Does patient have polypharmacy?\n",
    "    Mind:\n",
    "        Geriatric Depression Scale:\n",
    "        SLUMS Test:\n",
    "    Multicomplexity:\n",
    "        Summary of what makes treatment of patient challenging\n",
    "    \n",
    "        \n",
    "    ASSESSMENT AND PLAN:\n",
    "\n",
    "    That is the template to follow. Use the following information to fill out the above template: {notes}\n",
    "    \"\"\"\n",
    ")"
   ]
  },
  {
   "cell_type": "code",
   "execution_count": null,
   "metadata": {},
   "outputs": [
    {
     "name": "stdout",
     "output_type": "stream",
     "text": [
      "{'notes': 'Alice Wonderland 84 year old female\\n    Has headache\\n    history of diabetes, multiple falls\\n    Recent fall 3 days ago prior to onset of headache\\n    Has been getting worse\\n    Recommend she go to the ED to rule out intracranial pathology\\n    Her GDS is 15/15\\n    He has no history of smoking or tobacco use\\n    ', 'text': \"Patient Name: Alice Wonderland\\n\\nDate of Birth: ***NEEDS TO BE COLLECTED***\\n\\nChief Complaint: Headache\\n\\nHistory of Presenting Illness:\\nThe patient reports a worsening headache over the past few days, with a recent fall 3 days ago prior to the onset of symptoms.\\n\\nPersonal Medical History:\\n- Diabetes\\n***NEEDS TO BE COLLECTED***\\n\\nSurgical History:\\n- ***NEEDS TO BE COLLECTED***\\nNo specific information provided\\n\\nSocial History:\\n- None mentioned\\nNo information about the patient's social history is available\\n\\nFamily History:\\n- ***NEEDS TO BE COLLECTED***\\nNo family history was provided\\n\\nCOMPREHENSIVE GERIATRIC ASSESSMENT:\\n\\nMatters Most: The patient's fall and subsequent worsening headache are the most concerning factors.\\n\\nMobility:\\n- History of Falls: Yes, the patient has a history of falls, which is relevant given her recent fall 3 days ago.\\n- Fall Details: The patient had a recent fall prior to the onset of her headache, which could be related to her current symptoms.\\n\\nMedications:\\n- Polypharmacy: ***NEEDS TO BE COLLECTED*** No information about the patient's medication list was provided.\\n\\nMind:\\n- Geriatric Depression Scale (GDS): 15/15\\n- SLUMS Test: Not mentioned\\n\\nMulticomplexity:\\n- Summary of what makes treatment challenging: The patient's history of falls, recent fall, and worsening headache make her condition multifaceted and challenging to address.\\n\\nASSESSMENT AND PLAN:\\n\\nRecommendation for next steps: The patient should be sent to the Emergency Department (ED) to rule out intracranial pathology. Further evaluation is needed to determine the cause of her symptoms and develop an appropriate treatment plan.\"}\n",
      "{'notes': 'Alice Wonderland 84 year old female\\n    Has headache\\n    history of diabetes, multiple falls\\n    Recent fall 3 days ago prior to onset of headache\\n    Has been getting worse\\n    Recommend she go to the ED to rule out intracranial pathology\\n    Her GDS is 15/15\\n    He has no history of smoking or tobacco use\\n    ', 'text': \"Here is the completed Geriatric consultation note:\\n\\n**Patient Information**\\n\\n* Patient Name: Alice Wonderland\\n* Date of Birth: ***NEEDS TO BE COLLECTED***\\n\\n**Chief Complaint**\\n\\n* Headache\\n\\n**History of Presenting Illness**\\n\\n* Recent fall 3 days ago prior to onset of headache, which has been getting worse\\n\\n**Personal Medical History**\\n\\n* Diabetes\\n\\n**Surgical History**\\n\\n***NEEDS TO BE COLLECTED***\\n\\n**Social History**\\n\\n***NEEDS TO BE COLLECTED***\\n\\n**Family History**\\n\\n***NEEDS TO BE COLLECTED***\\n\\n**COMPREHENSIVE GERIATRIC ASSESSMENT**\\n\\n**Matters Most**\\n\\n* What matters most to patient? (Patient's values and goals, e.g. independence, comfort)\\n\\n**Mobility**\\n\\n* History of Falls: Yes, multiple falls\\n* Recent fall 3 days ago prior to onset of headache\\n\\n**Medications**\\n\\n* Polypharmacy: ***NEEDS TO BE COLLECTED***\\n\\n**Mind**\\n\\n* Geriatric Depression Scale (GDS): 15/15 (indicating significant depression)\\n* SLUMS Test: ***NEEDS TO BE COLLECTED***\\n\\n**Multicomplexity**\\n\\n* Summary of what makes treatment of patient challenging: Patient's recent fall and worsening headache, combined with potential intracranial pathology and polypharmacy\\n\\n**ASSESSMENT AND PLAN**\\n\\n* Recommend patient be sent to the ED to rule out intracranial pathology\\n* Consider referral to geriatrician for further evaluation and management\\n* Monitor for signs of depression and anxiety, given high GDS score\\n* ***NEEDS TO BE COLLECTED*** (any additional plan or recommendations)\"}\n",
      "{'notes': 'Alice Wonderland 84 year old female\\n    Has headache\\n    history of diabetes, multiple falls\\n    Recent fall 3 days ago prior to onset of headache\\n    Has been getting worse\\n    Recommend she go to the ED to rule out intracranial pathology\\n    Her GDS is 15/15\\n    He has no history of smoking or tobacco use\\n    ', 'text': \"Patient Name: Alice Wonderland\\n\\nDate of Birth: ***NEEDS TO BE COLLECTED***\\n\\nChief Complaint: Headache that has been worsening over the past three days.\\n\\nHistory of Presenting Illness:\\n- Alice Wonderland, an 84-year-old female, is presenting with a headache that has progressively worsened in severity over the last three days.\\n- She was involved in multiple falls recently which might be related to her current symptoms. \\n- Her medical history includes diabetes.\\n\\nPersonal Medical History: Diabetes.\\n\\nSurgical History: ***NEEDS TO BE COLLECTED***\\n\\nSocial History: Alice Wonderland has no history of smoking or tobacco use.\\n\\nFamily History: ***NEEDS TO BE COLLECTED***\\n\\nCOMPREHENSIVE GERIATRIC ASSESSMENT:\\n\\nMatters Most:\\n- The primary concern for Alice is her worsening headache, which may be related to recent falls.\\n\\nMobility:\\n- Due to multiple falls in the past, it's recommended that a thorough assessment of mobility and balance is conducted.\\n\\nMedications:\\n- ***NEEDS TO BE COLLECTED***\\n\\nMind:\\n- Geriatric Depression Scale: No information provided about Alice’s score.\\n- SLUMS Test: Not applicable as no cognitive testing results are mentioned.\\n\\nMulticomplexity:\\n- Summary of what makes treatment challenging: Her age, underlying diabetes, recent history of falls, and worsening headache that needs immediate attention to rule out intracranial pathology complicate her care management.\\n\\nASSESSMENT AND PLAN:\\n\\nThe assessment indicates the need for immediate attention due to Alice's recent fall history and rapidly progressing headache symptoms. \\n\\n**Plan**: Recommend that Alice Wonderland go to the Emergency Department (ED) immediately to undergo a comprehensive evaluation of her symptoms, focusing on ruling out any intracranial pathology as a cause for her headache.\\n\\nThe GDS score of 15/15 suggests no signs of depression in Alice, but further psychological assessments may be warranted due to her age and recent falls. \\n\\n**Follow-up**: Post-assessment at the ED, there should be comprehensive follow-up care considering her mobility issues, diabetes management, and potential cognitive assessments if indicated by the initial screening tests.\\n\\nPlease note that this is a hypothetical geriatric consultation note based on provided data points with some information gaps marked as needing to be collected. In an actual clinical setting, these details would need to be filled out after performing necessary evaluations and collecting accurate patient history.\"}\n"
     ]
    }
   ],
   "source": [
    "for model in models:\n",
    "    llm = Ollama(model=model)\n",
    "    for note in notes:\n",
    "        print(LLMChain(llm=llm,prompt=prompt).invoke(note))"
   ]
  }
 ],
 "metadata": {
  "kernelspec": {
   "display_name": ".venv",
   "language": "python",
   "name": "python3"
  },
  "language_info": {
   "codemirror_mode": {
    "name": "ipython",
    "version": 3
   },
   "file_extension": ".py",
   "mimetype": "text/x-python",
   "name": "python",
   "nbconvert_exporter": "python",
   "pygments_lexer": "ipython3",
   "version": "3.11.10"
  }
 },
 "nbformat": 4,
 "nbformat_minor": 2
}
