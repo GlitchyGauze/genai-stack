{
 "cells": [
  {
   "cell_type": "markdown",
   "metadata": {},
   "source": [
    "# Virtual Scribe AI Comparator\n",
    "\n",
    "The goal of this notebook is to compare the ability of various AI models to generate a Geriatrics Consultation Note"
   ]
  },
  {
   "cell_type": "code",
   "execution_count": 1,
   "metadata": {},
   "outputs": [],
   "source": [
    "# Load necessary components\n",
    "import os\n",
    "import json\n",
    "\n",
    "from langchain_core.prompts import PromptTemplate\n",
    "from langchain_ollama import OllamaLLM"
   ]
  },
  {
   "cell_type": "code",
   "execution_count": 2,
   "metadata": {},
   "outputs": [],
   "source": [
    "# Function to read notes andput into array\n",
    "def read_notes_to_array(ehr):\n",
    "    notes = []\n",
    "    for filename in os.listdir(ehr):\n",
    "        note_path = os.path.join(ehr,filename)\n",
    "\n",
    "        if os.path.isfile(note_path) and filename.endswith(\".txt\"):\n",
    "            with open(note_path, 'r') as note:\n",
    "                notes.append(note.read())\n",
    "\n",
    "    return notes\n",
    "\n",
    "# Function to pull template from file\n",
    "def template_generation(template):\n",
    "    with open(\"templates/\"+template+\".txt\", \"r\") as f:\n",
    "        template = f.read()\n",
    "    return template"
   ]
  },
  {
   "cell_type": "code",
   "execution_count": 3,
   "metadata": {},
   "outputs": [],
   "source": [
    "# Pick models to test\n",
    "models = [\n",
    "    \"llama3\",\n",
    "    \"qwen2\",\n",
    "    \"phi3\",\n",
    "    \"gemma2\",\n",
    "    \"medllama3\",\n",
    "    \"meditron\",\n",
    "    \"medllama2\",\n",
    "    \"MedX3.2\",\n",
    "    \"NewMes15\"\n",
    "]\n",
    "\n",
    "# Get notes\n",
    "notes = read_notes_to_array(\"ehr\")"
   ]
  },
  {
   "cell_type": "code",
   "execution_count": 4,
   "metadata": {},
   "outputs": [],
   "source": [
    "# Create the prompt\n",
    "prompt = PromptTemplate(\n",
    "    input_variables=[\"notes\"],\n",
    "    template=template_generation(\"geriatric_consult\")+\"Use the following information to fill out the above template: {notes}\"\n",
    ")"
   ]
  },
  {
   "cell_type": "code",
   "execution_count": 5,
   "metadata": {},
   "outputs": [],
   "source": [
    "# Generate notes for all requested models and patients\n",
    "for model in models:\n",
    "    llm = OllamaLLM(model=model)\n",
    "    i = 0\n",
    "    for note in notes:\n",
    "        i += 1\n",
    "        with open(\"virtualscribe_output/\"+model+\"patient-\"+str(i)+\".txt\", \"w\") as f:\n",
    "            chain = prompt | llm\n",
    "            f.write(json.dumps(chain.invoke(note)).replace(\"\\\\n\", \"\\n\"))\n",
    "    "
   ]
  }
 ],
 "metadata": {
  "kernelspec": {
   "display_name": "Python 3",
   "language": "python",
   "name": "python3"
  },
  "language_info": {
   "codemirror_mode": {
    "name": "ipython",
    "version": 3
   },
   "file_extension": ".py",
   "mimetype": "text/x-python",
   "name": "python",
   "nbconvert_exporter": "python",
   "pygments_lexer": "ipython3",
   "version": "3.11.11"
  }
 },
 "nbformat": 4,
 "nbformat_minor": 2
}
